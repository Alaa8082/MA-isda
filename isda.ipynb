{
 "cells": [
  {
   "cell_type": "code",
   "execution_count": 60,
   "metadata": {},
   "outputs": [],
   "source": [
    "import pandas as pd  \n",
    "import glob \n",
    "import warnings\n",
    "import numpy as np    \n",
    "from pandas import DataFrame, read_csv\n",
    "import matplotlib.pyplot as plt   \n",
    "from IPython.display import Image                 \n",
    "from IPython.display import display               \n",
    "from sklearn.datasets import dump_svmlight_file   \n",
    "from time import gmtime, strftime \n",
    "import seaborn as sns\n",
    "import sys                                        \n",
    "import math                                       \n",
    "import json\n",
    "import matplotlib.pyplot as plt\n",
    "import seaborn as sns"
   ]
  },
  {
   "cell_type": "code",
   "execution_count": 61,
   "metadata": {},
   "outputs": [],
   "source": [
    "path_to_excel_files = glob.glob(r'F:\\newdata.xlsx')\n",
    "for excel in path_to_excel_files:\n",
    " out = excel.split('.')[0]+'.csv'\n",
    " df = pd.read_excel(excel,skiprows=0)\n",
    " df.to_csv(out) "
   ]
  },
  {
   "cell_type": "code",
   "execution_count": 62,
   "metadata": {},
   "outputs": [],
   "source": [
    "data = df"
   ]
  },
  {
   "cell_type": "code",
   "execution_count": 63,
   "metadata": {},
   "outputs": [],
   "source": [
    "#see all column names & rows \n",
    "pd.set_option('display.max_columns', None)\n",
    "pd.set_option('display.max_rows', None)"
   ]
  },
  {
   "cell_type": "code",
   "execution_count": 64,
   "metadata": {},
   "outputs": [
    {
     "data": {
      "text/html": [
       "<div>\n",
       "<style scoped>\n",
       "    .dataframe tbody tr th:only-of-type {\n",
       "        vertical-align: middle;\n",
       "    }\n",
       "\n",
       "    .dataframe tbody tr th {\n",
       "        vertical-align: top;\n",
       "    }\n",
       "\n",
       "    .dataframe thead th {\n",
       "        text-align: right;\n",
       "    }\n",
       "</style>\n",
       "<table border=\"1\" class=\"dataframe\">\n",
       "  <thead>\n",
       "    <tr style=\"text-align: right;\">\n",
       "      <th></th>\n",
       "      <th>Clay_ob</th>\n",
       "      <th>Silt_ob</th>\n",
       "      <th>Sand_ob</th>\n",
       "      <th>db_ob</th>\n",
       "      <th>clay_p</th>\n",
       "      <th>silt_p</th>\n",
       "      <th>sand_p</th>\n",
       "      <th>db_p</th>\n",
       "    </tr>\n",
       "  </thead>\n",
       "  <tbody>\n",
       "    <tr>\n",
       "      <th>0</th>\n",
       "      <td>14.376078</td>\n",
       "      <td>37.377803</td>\n",
       "      <td>48.246118</td>\n",
       "      <td>1.5075</td>\n",
       "      <td>27</td>\n",
       "      <td>20</td>\n",
       "      <td>57</td>\n",
       "      <td>1.38</td>\n",
       "    </tr>\n",
       "    <tr>\n",
       "      <th>1</th>\n",
       "      <td>11.248594</td>\n",
       "      <td>33.745782</td>\n",
       "      <td>55.005624</td>\n",
       "      <td>1.5297</td>\n",
       "      <td>26</td>\n",
       "      <td>22</td>\n",
       "      <td>53</td>\n",
       "      <td>1.37</td>\n",
       "    </tr>\n",
       "    <tr>\n",
       "      <th>2</th>\n",
       "      <td>19.960000</td>\n",
       "      <td>20.190000</td>\n",
       "      <td>59.850000</td>\n",
       "      <td>1.4900</td>\n",
       "      <td>25</td>\n",
       "      <td>19</td>\n",
       "      <td>57</td>\n",
       "      <td>1.45</td>\n",
       "    </tr>\n",
       "    <tr>\n",
       "      <th>3</th>\n",
       "      <td>20.010000</td>\n",
       "      <td>6.530000</td>\n",
       "      <td>73.460000</td>\n",
       "      <td>1.6000</td>\n",
       "      <td>23</td>\n",
       "      <td>18</td>\n",
       "      <td>58</td>\n",
       "      <td>1.49</td>\n",
       "    </tr>\n",
       "    <tr>\n",
       "      <th>4</th>\n",
       "      <td>35.460000</td>\n",
       "      <td>26.840000</td>\n",
       "      <td>37.700000</td>\n",
       "      <td>1.3200</td>\n",
       "      <td>26</td>\n",
       "      <td>22</td>\n",
       "      <td>54</td>\n",
       "      <td>1.38</td>\n",
       "    </tr>\n",
       "    <tr>\n",
       "      <th>5</th>\n",
       "      <td>25.375154</td>\n",
       "      <td>31.900369</td>\n",
       "      <td>42.724477</td>\n",
       "      <td>1.4437</td>\n",
       "      <td>28</td>\n",
       "      <td>22</td>\n",
       "      <td>54</td>\n",
       "      <td>1.37</td>\n",
       "    </tr>\n",
       "    <tr>\n",
       "      <th>6</th>\n",
       "      <td>11.346445</td>\n",
       "      <td>41.603631</td>\n",
       "      <td>47.049924</td>\n",
       "      <td>1.5025</td>\n",
       "      <td>23</td>\n",
       "      <td>20</td>\n",
       "      <td>55</td>\n",
       "      <td>1.40</td>\n",
       "    </tr>\n",
       "    <tr>\n",
       "      <th>7</th>\n",
       "      <td>23.650000</td>\n",
       "      <td>39.650000</td>\n",
       "      <td>36.700000</td>\n",
       "      <td>1.4100</td>\n",
       "      <td>21</td>\n",
       "      <td>17</td>\n",
       "      <td>61</td>\n",
       "      <td>1.49</td>\n",
       "    </tr>\n",
       "    <tr>\n",
       "      <th>8</th>\n",
       "      <td>30.120000</td>\n",
       "      <td>23.450000</td>\n",
       "      <td>46.430000</td>\n",
       "      <td>1.4300</td>\n",
       "      <td>22</td>\n",
       "      <td>17</td>\n",
       "      <td>58</td>\n",
       "      <td>1.47</td>\n",
       "    </tr>\n",
       "    <tr>\n",
       "      <th>9</th>\n",
       "      <td>28.970000</td>\n",
       "      <td>34.980000</td>\n",
       "      <td>36.050000</td>\n",
       "      <td>1.3900</td>\n",
       "      <td>26</td>\n",
       "      <td>21</td>\n",
       "      <td>59</td>\n",
       "      <td>1.41</td>\n",
       "    </tr>\n",
       "  </tbody>\n",
       "</table>\n",
       "</div>"
      ],
      "text/plain": [
       "     Clay_ob    Silt_ob    Sand_ob   db_ob  clay_p  silt_p  sand_p  db_p\n",
       "0  14.376078  37.377803  48.246118  1.5075      27      20      57  1.38\n",
       "1  11.248594  33.745782  55.005624  1.5297      26      22      53  1.37\n",
       "2  19.960000  20.190000  59.850000  1.4900      25      19      57  1.45\n",
       "3  20.010000   6.530000  73.460000  1.6000      23      18      58  1.49\n",
       "4  35.460000  26.840000  37.700000  1.3200      26      22      54  1.38\n",
       "5  25.375154  31.900369  42.724477  1.4437      28      22      54  1.37\n",
       "6  11.346445  41.603631  47.049924  1.5025      23      20      55  1.40\n",
       "7  23.650000  39.650000  36.700000  1.4100      21      17      61  1.49\n",
       "8  30.120000  23.450000  46.430000  1.4300      22      17      58  1.47\n",
       "9  28.970000  34.980000  36.050000  1.3900      26      21      59  1.41"
      ]
     },
     "execution_count": 64,
     "metadata": {},
     "output_type": "execute_result"
    }
   ],
   "source": [
    "data.head(10)"
   ]
  },
  {
   "cell_type": "code",
   "execution_count": 65,
   "metadata": {},
   "outputs": [
    {
     "data": {
      "text/html": [
       "<div>\n",
       "<style scoped>\n",
       "    .dataframe tbody tr th:only-of-type {\n",
       "        vertical-align: middle;\n",
       "    }\n",
       "\n",
       "    .dataframe tbody tr th {\n",
       "        vertical-align: top;\n",
       "    }\n",
       "\n",
       "    .dataframe thead th {\n",
       "        text-align: right;\n",
       "    }\n",
       "</style>\n",
       "<table border=\"1\" class=\"dataframe\">\n",
       "  <thead>\n",
       "    <tr style=\"text-align: right;\">\n",
       "      <th></th>\n",
       "      <th>Clay_ob</th>\n",
       "      <th>Silt_ob</th>\n",
       "      <th>Sand_ob</th>\n",
       "      <th>db_ob</th>\n",
       "      <th>clay_p</th>\n",
       "      <th>silt_p</th>\n",
       "      <th>sand_p</th>\n",
       "      <th>db_p</th>\n",
       "    </tr>\n",
       "  </thead>\n",
       "  <tbody>\n",
       "    <tr>\n",
       "      <th>count</th>\n",
       "      <td>95.000000</td>\n",
       "      <td>95.000000</td>\n",
       "      <td>95.000000</td>\n",
       "      <td>95.000000</td>\n",
       "      <td>95.000000</td>\n",
       "      <td>95.000000</td>\n",
       "      <td>95.000000</td>\n",
       "      <td>95.000000</td>\n",
       "    </tr>\n",
       "    <tr>\n",
       "      <th>mean</th>\n",
       "      <td>30.483031</td>\n",
       "      <td>33.009827</td>\n",
       "      <td>34.503984</td>\n",
       "      <td>1.369910</td>\n",
       "      <td>26.126316</td>\n",
       "      <td>19.442105</td>\n",
       "      <td>54.442105</td>\n",
       "      <td>1.409579</td>\n",
       "    </tr>\n",
       "    <tr>\n",
       "      <th>std</th>\n",
       "      <td>12.679921</td>\n",
       "      <td>14.153390</td>\n",
       "      <td>14.390270</td>\n",
       "      <td>0.166721</td>\n",
       "      <td>2.384534</td>\n",
       "      <td>1.831845</td>\n",
       "      <td>3.331717</td>\n",
       "      <td>0.031955</td>\n",
       "    </tr>\n",
       "    <tr>\n",
       "      <th>min</th>\n",
       "      <td>8.615738</td>\n",
       "      <td>5.000000</td>\n",
       "      <td>5.240000</td>\n",
       "      <td>0.945102</td>\n",
       "      <td>21.000000</td>\n",
       "      <td>16.000000</td>\n",
       "      <td>45.000000</td>\n",
       "      <td>1.330000</td>\n",
       "    </tr>\n",
       "    <tr>\n",
       "      <th>25%</th>\n",
       "      <td>20.825000</td>\n",
       "      <td>20.601204</td>\n",
       "      <td>23.600000</td>\n",
       "      <td>1.210100</td>\n",
       "      <td>25.000000</td>\n",
       "      <td>18.000000</td>\n",
       "      <td>53.000000</td>\n",
       "      <td>1.390000</td>\n",
       "    </tr>\n",
       "    <tr>\n",
       "      <th>50%</th>\n",
       "      <td>30.000000</td>\n",
       "      <td>33.130867</td>\n",
       "      <td>33.500000</td>\n",
       "      <td>1.410000</td>\n",
       "      <td>26.000000</td>\n",
       "      <td>19.000000</td>\n",
       "      <td>55.000000</td>\n",
       "      <td>1.410000</td>\n",
       "    </tr>\n",
       "    <tr>\n",
       "      <th>75%</th>\n",
       "      <td>39.605000</td>\n",
       "      <td>41.801815</td>\n",
       "      <td>46.015000</td>\n",
       "      <td>1.514724</td>\n",
       "      <td>27.500000</td>\n",
       "      <td>20.000000</td>\n",
       "      <td>56.000000</td>\n",
       "      <td>1.430000</td>\n",
       "    </tr>\n",
       "    <tr>\n",
       "      <th>max</th>\n",
       "      <td>65.445026</td>\n",
       "      <td>66.920000</td>\n",
       "      <td>73.460000</td>\n",
       "      <td>1.686400</td>\n",
       "      <td>34.000000</td>\n",
       "      <td>24.000000</td>\n",
       "      <td>61.000000</td>\n",
       "      <td>1.490000</td>\n",
       "    </tr>\n",
       "  </tbody>\n",
       "</table>\n",
       "</div>"
      ],
      "text/plain": [
       "         Clay_ob    Silt_ob    Sand_ob      db_ob     clay_p     silt_p  \\\n",
       "count  95.000000  95.000000  95.000000  95.000000  95.000000  95.000000   \n",
       "mean   30.483031  33.009827  34.503984   1.369910  26.126316  19.442105   \n",
       "std    12.679921  14.153390  14.390270   0.166721   2.384534   1.831845   \n",
       "min     8.615738   5.000000   5.240000   0.945102  21.000000  16.000000   \n",
       "25%    20.825000  20.601204  23.600000   1.210100  25.000000  18.000000   \n",
       "50%    30.000000  33.130867  33.500000   1.410000  26.000000  19.000000   \n",
       "75%    39.605000  41.801815  46.015000   1.514724  27.500000  20.000000   \n",
       "max    65.445026  66.920000  73.460000   1.686400  34.000000  24.000000   \n",
       "\n",
       "          sand_p       db_p  \n",
       "count  95.000000  95.000000  \n",
       "mean   54.442105   1.409579  \n",
       "std     3.331717   0.031955  \n",
       "min    45.000000   1.330000  \n",
       "25%    53.000000   1.390000  \n",
       "50%    55.000000   1.410000  \n",
       "75%    56.000000   1.430000  \n",
       "max    61.000000   1.490000  "
      ]
     },
     "execution_count": 65,
     "metadata": {},
     "output_type": "execute_result"
    }
   ],
   "source": [
    "data.describe()"
   ]
  },
  {
   "cell_type": "code",
   "execution_count": 66,
   "metadata": {},
   "outputs": [],
   "source": [
    "data['Clay_ob'] = data['Clay_ob']/100"
   ]
  },
  {
   "cell_type": "code",
   "execution_count": 67,
   "metadata": {},
   "outputs": [],
   "source": [
    "data['Silt_ob'] = data['Silt_ob']/100"
   ]
  },
  {
   "cell_type": "code",
   "execution_count": 68,
   "metadata": {},
   "outputs": [],
   "source": [
    "data['Sand_ob'] = data['Sand_ob']/100"
   ]
  },
  {
   "cell_type": "code",
   "execution_count": 69,
   "metadata": {},
   "outputs": [],
   "source": [
    "data['db_ob'] = data['db_ob']/2"
   ]
  },
  {
   "cell_type": "code",
   "execution_count": 70,
   "metadata": {},
   "outputs": [],
   "source": [
    "data['clay_p'] = data['clay_p']/100"
   ]
  },
  {
   "cell_type": "code",
   "execution_count": 71,
   "metadata": {},
   "outputs": [],
   "source": [
    "data['silt_p'] = data['silt_p']/100"
   ]
  },
  {
   "cell_type": "code",
   "execution_count": 72,
   "metadata": {},
   "outputs": [],
   "source": [
    "data['sand_p'] = data['sand_p']/100"
   ]
  },
  {
   "cell_type": "code",
   "execution_count": 73,
   "metadata": {},
   "outputs": [],
   "source": [
    "data['db_p'] = data['db_p']/2"
   ]
  },
  {
   "cell_type": "code",
   "execution_count": 74,
   "metadata": {},
   "outputs": [],
   "source": [
    "pd.set_option('display.max_columns', 10)"
   ]
  },
  {
   "cell_type": "code",
   "execution_count": 75,
   "metadata": {},
   "outputs": [
    {
     "data": {
      "text/html": [
       "<div>\n",
       "<style scoped>\n",
       "    .dataframe tbody tr th:only-of-type {\n",
       "        vertical-align: middle;\n",
       "    }\n",
       "\n",
       "    .dataframe tbody tr th {\n",
       "        vertical-align: top;\n",
       "    }\n",
       "\n",
       "    .dataframe thead th {\n",
       "        text-align: right;\n",
       "    }\n",
       "</style>\n",
       "<table border=\"1\" class=\"dataframe\">\n",
       "  <thead>\n",
       "    <tr style=\"text-align: right;\">\n",
       "      <th></th>\n",
       "      <th>Clay_ob</th>\n",
       "      <th>Silt_ob</th>\n",
       "      <th>Sand_ob</th>\n",
       "      <th>db_ob</th>\n",
       "      <th>clay_p</th>\n",
       "      <th>silt_p</th>\n",
       "      <th>sand_p</th>\n",
       "      <th>db_p</th>\n",
       "    </tr>\n",
       "  </thead>\n",
       "  <tbody>\n",
       "    <tr>\n",
       "      <th>0</th>\n",
       "      <td>0.143761</td>\n",
       "      <td>0.373778</td>\n",
       "      <td>0.482461</td>\n",
       "      <td>0.75375</td>\n",
       "      <td>0.27</td>\n",
       "      <td>0.20</td>\n",
       "      <td>0.57</td>\n",
       "      <td>0.690</td>\n",
       "    </tr>\n",
       "    <tr>\n",
       "      <th>1</th>\n",
       "      <td>0.112486</td>\n",
       "      <td>0.337458</td>\n",
       "      <td>0.550056</td>\n",
       "      <td>0.76485</td>\n",
       "      <td>0.26</td>\n",
       "      <td>0.22</td>\n",
       "      <td>0.53</td>\n",
       "      <td>0.685</td>\n",
       "    </tr>\n",
       "    <tr>\n",
       "      <th>2</th>\n",
       "      <td>0.199600</td>\n",
       "      <td>0.201900</td>\n",
       "      <td>0.598500</td>\n",
       "      <td>0.74500</td>\n",
       "      <td>0.25</td>\n",
       "      <td>0.19</td>\n",
       "      <td>0.57</td>\n",
       "      <td>0.725</td>\n",
       "    </tr>\n",
       "    <tr>\n",
       "      <th>3</th>\n",
       "      <td>0.200100</td>\n",
       "      <td>0.065300</td>\n",
       "      <td>0.734600</td>\n",
       "      <td>0.80000</td>\n",
       "      <td>0.23</td>\n",
       "      <td>0.18</td>\n",
       "      <td>0.58</td>\n",
       "      <td>0.745</td>\n",
       "    </tr>\n",
       "    <tr>\n",
       "      <th>4</th>\n",
       "      <td>0.354600</td>\n",
       "      <td>0.268400</td>\n",
       "      <td>0.377000</td>\n",
       "      <td>0.66000</td>\n",
       "      <td>0.26</td>\n",
       "      <td>0.22</td>\n",
       "      <td>0.54</td>\n",
       "      <td>0.690</td>\n",
       "    </tr>\n",
       "    <tr>\n",
       "      <th>5</th>\n",
       "      <td>0.253752</td>\n",
       "      <td>0.319004</td>\n",
       "      <td>0.427245</td>\n",
       "      <td>0.72185</td>\n",
       "      <td>0.28</td>\n",
       "      <td>0.22</td>\n",
       "      <td>0.54</td>\n",
       "      <td>0.685</td>\n",
       "    </tr>\n",
       "    <tr>\n",
       "      <th>6</th>\n",
       "      <td>0.113464</td>\n",
       "      <td>0.416036</td>\n",
       "      <td>0.470499</td>\n",
       "      <td>0.75125</td>\n",
       "      <td>0.23</td>\n",
       "      <td>0.20</td>\n",
       "      <td>0.55</td>\n",
       "      <td>0.700</td>\n",
       "    </tr>\n",
       "    <tr>\n",
       "      <th>7</th>\n",
       "      <td>0.236500</td>\n",
       "      <td>0.396500</td>\n",
       "      <td>0.367000</td>\n",
       "      <td>0.70500</td>\n",
       "      <td>0.21</td>\n",
       "      <td>0.17</td>\n",
       "      <td>0.61</td>\n",
       "      <td>0.745</td>\n",
       "    </tr>\n",
       "    <tr>\n",
       "      <th>8</th>\n",
       "      <td>0.301200</td>\n",
       "      <td>0.234500</td>\n",
       "      <td>0.464300</td>\n",
       "      <td>0.71500</td>\n",
       "      <td>0.22</td>\n",
       "      <td>0.17</td>\n",
       "      <td>0.58</td>\n",
       "      <td>0.735</td>\n",
       "    </tr>\n",
       "    <tr>\n",
       "      <th>9</th>\n",
       "      <td>0.289700</td>\n",
       "      <td>0.349800</td>\n",
       "      <td>0.360500</td>\n",
       "      <td>0.69500</td>\n",
       "      <td>0.26</td>\n",
       "      <td>0.21</td>\n",
       "      <td>0.59</td>\n",
       "      <td>0.705</td>\n",
       "    </tr>\n",
       "  </tbody>\n",
       "</table>\n",
       "</div>"
      ],
      "text/plain": [
       "    Clay_ob   Silt_ob   Sand_ob    db_ob  clay_p  silt_p  sand_p   db_p\n",
       "0  0.143761  0.373778  0.482461  0.75375    0.27    0.20    0.57  0.690\n",
       "1  0.112486  0.337458  0.550056  0.76485    0.26    0.22    0.53  0.685\n",
       "2  0.199600  0.201900  0.598500  0.74500    0.25    0.19    0.57  0.725\n",
       "3  0.200100  0.065300  0.734600  0.80000    0.23    0.18    0.58  0.745\n",
       "4  0.354600  0.268400  0.377000  0.66000    0.26    0.22    0.54  0.690\n",
       "5  0.253752  0.319004  0.427245  0.72185    0.28    0.22    0.54  0.685\n",
       "6  0.113464  0.416036  0.470499  0.75125    0.23    0.20    0.55  0.700\n",
       "7  0.236500  0.396500  0.367000  0.70500    0.21    0.17    0.61  0.745\n",
       "8  0.301200  0.234500  0.464300  0.71500    0.22    0.17    0.58  0.735\n",
       "9  0.289700  0.349800  0.360500  0.69500    0.26    0.21    0.59  0.705"
      ]
     },
     "execution_count": 75,
     "metadata": {},
     "output_type": "execute_result"
    }
   ],
   "source": [
    "data.head(10)"
   ]
  },
  {
   "cell_type": "code",
   "execution_count": 76,
   "metadata": {},
   "outputs": [],
   "source": [
    "X=data[['Clay_ob']]\n",
    "y=data[['clay_p']]\n",
    "\n"
   ]
  },
  {
   "cell_type": "code",
   "execution_count": 77,
   "metadata": {},
   "outputs": [
    {
     "data": {
      "image/png": "[encoded data removed]",
      "text/plain": [
       "<Figure size 720x216 with 2 Axes>"
      ]
     },
     "metadata": {
      "needs_background": "light"
     },
     "output_type": "display_data"
    }
   ],
   "source": [
    "from sklearn.model_selection import train_test_split\n",
    "from sklearn.pipeline import make_pipeline\n",
    "from sklearn.linear_model import LinearRegression\n",
    "from sklearn.preprocessing import StandardScaler\n",
    "from sklearn.decomposition import PCA\n",
    "from sklearn.cross_decomposition import PLSRegression\n",
    "from sklearn.metrics import mean_squared_error, r2_score\n",
    "\n",
    "\n",
    "X_train, X_test, y_train, y_test = train_test_split(X, y)\n",
    "\n",
    "pcr = make_pipeline(StandardScaler(), PCA(n_components=1), LinearRegression())\n",
    "pcr.fit(X_train, y_train)\n",
    "pca = pcr.named_steps['pca']  # retrieve the PCA step of the pipeline\n",
    "\n",
    "pls = PLSRegression(n_components=1)\n",
    "pls.fit(X_train, y_train)\n",
    "\n",
    "fig, axes = plt.subplots(1, 2, figsize=(10, 3))\n",
    "axes[0].scatter(pca.transform(X_test), y_test, alpha=.3, label='ground truth')\n",
    "axes[0].scatter(pca.transform(X_test), pcr.predict(X_test), alpha=.3,\n",
    "                label='predictions')\n",
    "axes[0].set(xlabel='Projected data onto first PCA component',\n",
    "            ylabel='y', title='PCR / PCA')\n",
    "axes[0].legend()\n",
    "axes[1].scatter(pls.transform(X_test), y_test, alpha=.3, label='ground truth')\n",
    "axes[1].scatter(pls.transform(X_test), pls.predict(X_test), alpha=.3,\n",
    "                label='predictions')\n",
    "axes[1].set(xlabel='Projected data onto first PLS component',\n",
    "            ylabel='y', title='PLS')\n",
    "axes[1].legend()\n",
    "\n",
    "plt.tight_layout()\n",
    "plt.show()"
   ]
  },
  {
   "cell_type": "code",
   "execution_count": 78,
   "metadata": {},
   "outputs": [],
   "source": [
    "from scipy import stats"
   ]
  },
  {
   "cell_type": "code",
   "execution_count": 79,
   "metadata": {},
   "outputs": [
    {
     "data": {
      "text/plain": [
       "SpearmanrResult(correlation=0.08324780086483677, pvalue=0.42252332725523534)"
      ]
     },
     "execution_count": 79,
     "metadata": {},
     "output_type": "execute_result"
    }
   ],
   "source": [
    "stats.spearmanr(data['Clay_ob'],data['clay_p'])"
   ]
  },
  {
   "cell_type": "code",
   "execution_count": 80,
   "metadata": {},
   "outputs": [],
   "source": [
    "from sklearn.metrics import mean_squared_error"
   ]
  },
  {
   "cell_type": "code",
   "execution_count": 81,
   "metadata": {},
   "outputs": [
    {
     "data": {
      "text/plain": [
       "0.01754697684019461"
      ]
     },
     "execution_count": 81,
     "metadata": {},
     "output_type": "execute_result"
    }
   ],
   "source": [
    "mean_squared_error(data['Clay_ob'], data['clay_p'])"
   ]
  },
  {
   "cell_type": "code",
   "execution_count": 82,
   "metadata": {},
   "outputs": [
    {
     "name": "stdout",
     "output_type": "stream",
     "text": [
      "     Clay_ob  clay_p\n",
      "0   0.143761    0.27\n",
      "1   0.112486    0.26\n",
      "2   0.199600    0.25\n",
      "3   0.200100    0.23\n",
      "4   0.354600    0.26\n",
      "5   0.253752    0.28\n",
      "6   0.113464    0.23\n",
      "7   0.236500    0.21\n",
      "8   0.301200    0.22\n",
      "9   0.289700    0.26\n",
      "10  0.227100    0.25\n",
      "11  0.271400    0.26\n",
      "12  0.107181    0.27\n",
      "13  0.181378    0.29\n",
      "14  0.396500    0.26\n",
      "15  0.103359    0.26\n",
      "16  0.086157    0.26\n",
      "17  0.110436    0.27\n",
      "18  0.186451    0.28\n",
      "19  0.115700    0.30\n",
      "20  0.614754    0.28\n",
      "21  0.654450    0.30\n",
      "22  0.459700    0.25\n",
      "23  0.101902    0.26\n",
      "24  0.257200    0.25\n",
      "25  0.206500    0.27\n",
      "26  0.402576    0.33\n",
      "27  0.398000    0.27\n",
      "28  0.355800    0.26\n",
      "29  0.278800    0.24\n",
      "30  0.530000    0.32\n",
      "31  0.320000    0.25\n",
      "32  0.480000    0.28\n",
      "33  0.281000    0.24\n",
      "34  0.300000    0.26\n",
      "35  0.350000    0.25\n",
      "36  0.300000    0.24\n",
      "37  0.400000    0.23\n",
      "38  0.450000    0.24\n",
      "39  0.350000    0.25\n",
      "40  0.350000    0.32\n",
      "41  0.400000    0.27\n",
      "42  0.350000    0.28\n",
      "43  0.400000    0.28\n",
      "44  0.300000    0.26\n",
      "45  0.450000    0.31\n",
      "46  0.300000    0.23\n",
      "47  0.400000    0.24\n",
      "48  0.300000    0.34\n",
      "49  0.400000    0.25\n",
      "50  0.450000    0.24\n",
      "51  0.300000    0.26\n",
      "52  0.300000    0.26\n",
      "53  0.300000    0.29\n",
      "54  0.350000    0.25\n",
      "55  0.300000    0.27\n",
      "56  0.300000    0.23\n",
      "57  0.400000    0.28\n",
      "58  0.350000    0.26\n",
      "59  0.350000    0.27\n",
      "60  0.300000    0.29\n",
      "61  0.400000    0.28\n",
      "62  0.164200    0.27\n",
      "63  0.542100    0.24\n",
      "64  0.651200    0.23\n",
      "65  0.596200    0.28\n",
      "66  0.315600    0.23\n",
      "67  0.432900    0.25\n",
      "68  0.567000    0.25\n",
      "69  0.292400    0.26\n",
      "70  0.237000    0.24\n",
      "71  0.210000    0.23\n",
      "72  0.274800    0.27\n",
      "73  0.185600    0.22\n",
      "74  0.265400    0.25\n",
      "75  0.308400    0.28\n",
      "76  0.245600    0.26\n",
      "77  0.100000    0.29\n",
      "78  0.176800    0.24\n",
      "79  0.304000    0.25\n",
      "80  0.342700    0.26\n",
      "81  0.413805    0.28\n",
      "82  0.188243    0.24\n",
      "83  0.302216    0.25\n",
      "84  0.120621    0.26\n",
      "85  0.195642    0.25\n",
      "86  0.167655    0.24\n",
      "87  0.287200    0.25\n",
      "88  0.305600    0.25\n",
      "89  0.395600    0.26\n",
      "90  0.226953    0.26\n",
      "91  0.187000    0.28\n",
      "92  0.198300    0.26\n",
      "93  0.251435    0.25\n",
      "94  0.275200    0.29\n"
     ]
    }
   ],
   "source": [
    "data1 = {'Clay_ob': data['Clay_ob'],\n",
    "        'clay_p': data['clay_p']\n",
    "        }\n",
    "\n",
    "df1 = pd.DataFrame(data1,columns=['Clay_ob','clay_p'])\n",
    "print (df1)"
   ]
  },
  {
   "cell_type": "code",
   "execution_count": 83,
   "metadata": {},
   "outputs": [
    {
     "data": {
      "image/png": "[encoded data removed]",
      "text/plain": [
       "<Figure size 432x288 with 2 Axes>"
      ]
     },
     "metadata": {
      "needs_background": "light"
     },
     "output_type": "display_data"
    }
   ],
   "source": [
    "df1.corr()\n",
    "corrMatrix = df1.corr()\n",
    "sns.heatmap(corrMatrix, annot=True)\n",
    "plt.show()"
   ]
  },
  {
   "cell_type": "code",
   "execution_count": 84,
   "metadata": {},
   "outputs": [
    {
     "data": {
      "image/png": "[encoded data removed]",
      "text/plain": [
       "<Figure size 432x288 with 2 Axes>"
      ]
     },
     "metadata": {
      "needs_background": "light"
     },
     "output_type": "display_data"
    }
   ],
   "source": [
    "df.corr()\n",
    "corrMatrix = df.corr()\n",
    "sns.heatmap(corrMatrix, annot=True)\n",
    "plt.show()"
   ]
  },
  {
   "cell_type": "code",
   "execution_count": null,
   "metadata": {},
   "outputs": [],
   "source": []
  },
  {
   "cell_type": "code",
   "execution_count": null,
   "metadata": {},
   "outputs": [],
   "source": []
  }
 ],
 "metadata": {
  "kernelspec": {
   "display_name": "Python 3",
   "language": "python",
   "name": "python3"
  },
  "language_info": {
   "codemirror_mode": {
    "name": "ipython",
    "version": 3
   },
   "file_extension": ".py",
   "mimetype": "text/x-python",
   "name": "python",
   "nbconvert_exporter": "python",
   "pygments_lexer": "ipython3",
   "version": "3.8.3"
  }
 },
 "nbformat": 4,
 "nbformat_minor": 4
}
